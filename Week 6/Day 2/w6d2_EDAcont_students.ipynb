{
 "cells": [
  {
   "cell_type": "markdown",
   "metadata": {
    "id": "1v7wx3GDiI7P"
   },
   "source": [
    "# Week 6 Day 2 - EDA\n",
    "\n",
    "1. Data Collection\n",
    "2. Data Cleaning\n",
    "3. Univariate Analysis\n",
    "4. **Bivariate Analysis**\n",
    "5. **Multivariate Analysis**\n",
    "6. **Time Series Data**\n",
    "7. **Dealing with Outliers and Missing Values**"
   ]
  },
  {
   "cell_type": "markdown",
   "metadata": {
    "id": "jAwPKkkoWB_O"
   },
   "source": [
    "### Titanic dataset\n",
    "https://www.kaggle.com/c/titanic/data\n",
    "\n",
    "This datset was made for machine learning but provides some very interesting visualizations. I renamed the 'training' set as 'passengers' and  'gender_submission' file as 'survived'"
   ]
  },
  {
   "cell_type": "code",
   "execution_count": 164,
   "metadata": {
    "executionInfo": {
     "elapsed": 28,
     "status": "ok",
     "timestamp": 1689778619087,
     "user": {
      "displayName": "Anas X384569",
      "userId": "13931278578707862625"
     },
     "user_tz": 360
    },
    "id": "xM4-jQMEWhf8"
   },
   "outputs": [],
   "source": [
    "import pandas as pd\n",
    "import pickle"
   ]
  },
  {
   "cell_type": "code",
   "execution_count": 165,
   "metadata": {},
   "outputs": [
    {
     "name": "stdout",
     "output_type": "stream",
     "text": [
      "C:\\Users\\XeNoJ\\OneDrive\\Documents\\Tutorials-WebDev\\html_course\\01-Lesson\\INFO2201_SummerNotes\n"
     ]
    }
   ],
   "source": [
    "import os\n",
    "print(os.getcwd())\n"
   ]
  },
  {
   "cell_type": "code",
   "execution_count": 166,
   "metadata": {},
   "outputs": [
    {
     "name": "stdout",
     "output_type": "stream",
     "text": [
      "False\n"
     ]
    }
   ],
   "source": [
    "import os\n",
    "print(os.path.exists('../Day 1/titanic_clean.pkl'))  # Should return True\n"
   ]
  },
  {
   "cell_type": "markdown",
   "metadata": {},
   "source": [
    "pull in the titanic_clean.csv from last class"
   ]
  },
  {
   "cell_type": "code",
   "execution_count": 167,
   "metadata": {
    "executionInfo": {
     "elapsed": 28,
     "status": "ok",
     "timestamp": 1689778619088,
     "user": {
      "displayName": "Anas X384569",
      "userId": "13931278578707862625"
     },
     "user_tz": 360
    },
    "id": "OAQFdTxAiNNz"
   },
   "outputs": [],
   "source": [
    "#reading files\n",
    "#titanic_clean = pd.read_csv(\"titanic_clean.csv\")\n",
    "\n",
    "#or\n",
    "with open(r\"C:\\Users\\XeNoJ\\OneDrive\\Documents\\Tutorials-WebDev\\html_course\\01-Lesson\\INFO2201_SummerNotes\\Week 6\\Day 1\\titanic_clean.pkl\", 'rb') as f:\n",
    "     titanicDf = pickle.load(f) # deserialize using load()\n"
   ]
  },
  {
   "cell_type": "code",
   "execution_count": 168,
   "metadata": {
    "colab": {
     "base_uri": "https://localhost:8080/",
     "height": 206
    },
    "executionInfo": {
     "elapsed": 28,
     "status": "ok",
     "timestamp": 1689778619088,
     "user": {
      "displayName": "Anas X384569",
      "userId": "13931278578707862625"
     },
     "user_tz": 360
    },
    "id": "di_r6wqWWgc7",
    "outputId": "6c7409fb-de0e-4b28-a6df-4f0742aeaef8"
   },
   "outputs": [
    {
     "data": {
      "text/html": [
       "<div>\n",
       "<style scoped>\n",
       "    .dataframe tbody tr th:only-of-type {\n",
       "        vertical-align: middle;\n",
       "    }\n",
       "\n",
       "    .dataframe tbody tr th {\n",
       "        vertical-align: top;\n",
       "    }\n",
       "\n",
       "    .dataframe thead th {\n",
       "        text-align: right;\n",
       "    }\n",
       "</style>\n",
       "<table border=\"1\" class=\"dataframe\">\n",
       "  <thead>\n",
       "    <tr style=\"text-align: right;\">\n",
       "      <th></th>\n",
       "      <th>PassengerId</th>\n",
       "      <th>Pclass</th>\n",
       "      <th>Name</th>\n",
       "      <th>Sex</th>\n",
       "      <th>Age</th>\n",
       "      <th>SibSp</th>\n",
       "      <th>Parch</th>\n",
       "      <th>Ticket</th>\n",
       "      <th>Fare</th>\n",
       "      <th>Cabin</th>\n",
       "      <th>Embarked</th>\n",
       "      <th>Survived</th>\n",
       "      <th>CabinCode</th>\n",
       "      <th>AgeGroup</th>\n",
       "    </tr>\n",
       "  </thead>\n",
       "  <tbody>\n",
       "    <tr>\n",
       "      <th>0</th>\n",
       "      <td>892</td>\n",
       "      <td>3</td>\n",
       "      <td>Kelly, Mr. James</td>\n",
       "      <td>male</td>\n",
       "      <td>34.0</td>\n",
       "      <td>0</td>\n",
       "      <td>0</td>\n",
       "      <td>330911</td>\n",
       "      <td>7.8292</td>\n",
       "      <td>NaN</td>\n",
       "      <td>Q</td>\n",
       "      <td>0</td>\n",
       "      <td>None</td>\n",
       "      <td>Adult</td>\n",
       "    </tr>\n",
       "    <tr>\n",
       "      <th>1</th>\n",
       "      <td>893</td>\n",
       "      <td>3</td>\n",
       "      <td>Wilkes, Mrs. James (Ellen Needs)</td>\n",
       "      <td>female</td>\n",
       "      <td>47.0</td>\n",
       "      <td>1</td>\n",
       "      <td>0</td>\n",
       "      <td>363272</td>\n",
       "      <td>7.0000</td>\n",
       "      <td>NaN</td>\n",
       "      <td>S</td>\n",
       "      <td>1</td>\n",
       "      <td>None</td>\n",
       "      <td>Adult</td>\n",
       "    </tr>\n",
       "    <tr>\n",
       "      <th>2</th>\n",
       "      <td>894</td>\n",
       "      <td>2</td>\n",
       "      <td>Myles, Mr. Thomas Francis</td>\n",
       "      <td>male</td>\n",
       "      <td>62.0</td>\n",
       "      <td>0</td>\n",
       "      <td>0</td>\n",
       "      <td>240276</td>\n",
       "      <td>9.6875</td>\n",
       "      <td>NaN</td>\n",
       "      <td>Q</td>\n",
       "      <td>0</td>\n",
       "      <td>None</td>\n",
       "      <td>Adult</td>\n",
       "    </tr>\n",
       "    <tr>\n",
       "      <th>3</th>\n",
       "      <td>895</td>\n",
       "      <td>3</td>\n",
       "      <td>Wirz, Mr. Albert</td>\n",
       "      <td>male</td>\n",
       "      <td>27.0</td>\n",
       "      <td>0</td>\n",
       "      <td>0</td>\n",
       "      <td>315154</td>\n",
       "      <td>8.6625</td>\n",
       "      <td>NaN</td>\n",
       "      <td>S</td>\n",
       "      <td>0</td>\n",
       "      <td>None</td>\n",
       "      <td>Adult</td>\n",
       "    </tr>\n",
       "    <tr>\n",
       "      <th>4</th>\n",
       "      <td>896</td>\n",
       "      <td>3</td>\n",
       "      <td>Hirvonen, Mrs. Alexander (Helga E Lindqvist)</td>\n",
       "      <td>female</td>\n",
       "      <td>22.0</td>\n",
       "      <td>1</td>\n",
       "      <td>1</td>\n",
       "      <td>3101298</td>\n",
       "      <td>12.2875</td>\n",
       "      <td>NaN</td>\n",
       "      <td>S</td>\n",
       "      <td>1</td>\n",
       "      <td>None</td>\n",
       "      <td>Adult</td>\n",
       "    </tr>\n",
       "  </tbody>\n",
       "</table>\n",
       "</div>"
      ],
      "text/plain": [
       "   PassengerId  Pclass                                          Name     Sex  \\\n",
       "0          892       3                              Kelly, Mr. James    male   \n",
       "1          893       3              Wilkes, Mrs. James (Ellen Needs)  female   \n",
       "2          894       2                     Myles, Mr. Thomas Francis    male   \n",
       "3          895       3                              Wirz, Mr. Albert    male   \n",
       "4          896       3  Hirvonen, Mrs. Alexander (Helga E Lindqvist)  female   \n",
       "\n",
       "    Age  SibSp  Parch   Ticket     Fare Cabin Embarked  Survived CabinCode  \\\n",
       "0  34.0      0      0   330911   7.8292   NaN        Q         0      None   \n",
       "1  47.0      1      0   363272   7.0000   NaN        S         1      None   \n",
       "2  62.0      0      0   240276   9.6875   NaN        Q         0      None   \n",
       "3  27.0      0      0   315154   8.6625   NaN        S         0      None   \n",
       "4  22.0      1      1  3101298  12.2875   NaN        S         1      None   \n",
       "\n",
       "  AgeGroup  \n",
       "0    Adult  \n",
       "1    Adult  \n",
       "2    Adult  \n",
       "3    Adult  \n",
       "4    Adult  "
      ]
     },
     "execution_count": 168,
     "metadata": {},
     "output_type": "execute_result"
    }
   ],
   "source": [
    "titanicDf.head()"
   ]
  },
  {
   "cell_type": "markdown",
   "metadata": {},
   "source": [
    "[**seaborn**](https://seaborn.pydata.org)\n",
    "\n",
    "\n",
    "Seaborn is a Python data visualization library based on matplotlib. It provides a high-level interface for drawing attractive and informative statistical graphics. You can find more on their [github repo](https://github.com/mwaskom/seaborn). "
   ]
  },
  {
   "cell_type": "code",
   "execution_count": 169,
   "metadata": {},
   "outputs": [],
   "source": [
    "import seaborn as sns"
   ]
  },
  {
   "cell_type": "code",
   "execution_count": 170,
   "metadata": {},
   "outputs": [
    {
     "data": {
      "text/plain": [
       "<Axes: xlabel='Age', ylabel='Count'>"
      ]
     },
     "execution_count": 170,
     "metadata": {},
     "output_type": "execute_result"
    },
    {
     "data": {
      "image/png": "[encoded data removed]",
      "text/plain": [
       "<Figure size 640x480 with 1 Axes>"
      ]
     },
     "metadata": {},
     "output_type": "display_data"
    }
   ],
   "source": [
    "#use the histplot for a histogram\n",
    "\n",
    "sns.histplot(titanicDf['Age'])"
   ]
  },
  {
   "cell_type": "markdown",
   "metadata": {},
   "source": [
    "You can also add a  <u>kernel density estimate</u> - This function can normalize the statistic computed within each bin to estimate frequency. In statistics, kernel density estimation (KDE) is the application of kernel smoothing for probability density estimation. KDE answers a fundamental data smoothing problem where inferences about the population are made based on a finite data sample. "
   ]
  },
  {
   "cell_type": "code",
   "execution_count": 171,
   "metadata": {},
   "outputs": [
    {
     "data": {
      "text/plain": [
       "<Axes: xlabel='Age', ylabel='Count'>"
      ]
     },
     "execution_count": 171,
     "metadata": {},
     "output_type": "execute_result"
    },
    {
     "data": {
      "image/png": "[encoded data removed]",
      "text/plain": [
       "<Figure size 640x480 with 1 Axes>"
      ]
     },
     "metadata": {},
     "output_type": "display_data"
    }
   ],
   "source": [
    "#add kde\n",
    "sns.histplot(titanicDf['Age'], kde=True)"
   ]
  },
  {
   "cell_type": "markdown",
   "metadata": {},
   "source": [
    "### Bivariate Analysis"
   ]
  },
  {
   "cell_type": "markdown",
   "metadata": {},
   "source": [
    "**ScatterPlots**\n",
    "\n",
    "A scatter plot identifies a possible relationship between changes observed in two different sets of variables. It provides a visual and statistical means to test the strength of a relationship between two variables"
   ]
  },
  {
   "cell_type": "markdown",
   "metadata": {},
   "source": [
    "**Regression Plots**\n",
    "\n",
    "**sns.regplot**\n",
    "\n",
    "The regression plots in seaborn are primarily intended to add a visual guide that helps to emphasize patterns in a dataset during exploratory data analyses. Regression plots as the name suggests creates a regression line between 2 parameters and helps to visualize their linear relationships. "
   ]
  },
  {
   "cell_type": "code",
   "execution_count": 172,
   "metadata": {},
   "outputs": [],
   "source": [
    "#plot fare and age\n"
   ]
  },
  {
   "cell_type": "code",
   "execution_count": 173,
   "metadata": {},
   "outputs": [],
   "source": [
    "#plot plcass and fare\n"
   ]
  },
  {
   "cell_type": "markdown",
   "metadata": {},
   "source": [
    "get rid of the outlier"
   ]
  },
  {
   "cell_type": "code",
   "execution_count": 174,
   "metadata": {},
   "outputs": [],
   "source": [
    "#what datatype is it?\n",
    "\n"
   ]
  },
  {
   "cell_type": "code",
   "execution_count": 175,
   "metadata": {},
   "outputs": [],
   "source": [
    "#get is lesss than the outlier\n"
   ]
  },
  {
   "cell_type": "code",
   "execution_count": 176,
   "metadata": {},
   "outputs": [],
   "source": [
    "#try to plot it (fare and age)\n"
   ]
  },
  {
   "cell_type": "markdown",
   "metadata": {},
   "source": [
    "need to drop the other ones to match you can do it by just pulling form the clean df"
   ]
  },
  {
   "cell_type": "code",
   "execution_count": null,
   "metadata": {},
   "outputs": [],
   "source": []
  },
  {
   "cell_type": "markdown",
   "metadata": {},
   "source": [
    "[**Line Plots**](https://seaborn.pydata.org/generated/seaborn.lineplot.html)\n",
    "\n",
    "A line graph connects individual data points that, typically, display quantitative values over a specified time interval."
   ]
  },
  {
   "cell_type": "markdown",
   "metadata": {},
   "source": [
    "**relplot**\n",
    "Figure-level interface for drawing relational plots onto a FacetGrid.\n",
    "\n",
    "This function provides access to several different axes-level functions that show the relationship between two variables with semantic mappings of subsets. The kind parameter selects the underlying axes-level function to use"
   ]
  },
  {
   "cell_type": "code",
   "execution_count": 177,
   "metadata": {},
   "outputs": [],
   "source": [
    "#plot age and survived\n"
   ]
  },
  {
   "cell_type": "markdown",
   "metadata": {},
   "source": [
    "try to plot the inverse of them"
   ]
  },
  {
   "cell_type": "code",
   "execution_count": null,
   "metadata": {},
   "outputs": [],
   "source": []
  },
  {
   "cell_type": "markdown",
   "metadata": {},
   "source": [
    "### [Box Plots](https://seaborn.pydata.org/generated/seaborn.boxplot.html)\n",
    "\n",
    "A box and whisker plot or diagram (otherwise known as a boxplot), is a graph summarising a set of data. The shape of the boxplot shows how the data is distributed and it also shows any outliers. It is a useful way to compare different sets of data as you can draw more than one boxplot per graph."
   ]
  },
  {
   "cell_type": "code",
   "execution_count": 178,
   "metadata": {},
   "outputs": [],
   "source": [
    "#plot survived and age\n"
   ]
  },
  {
   "cell_type": "code",
   "execution_count": 179,
   "metadata": {},
   "outputs": [],
   "source": [
    "#plot sex and age\n"
   ]
  },
  {
   "cell_type": "markdown",
   "metadata": {},
   "source": [
    "## Exercise 1 \n",
    "\n",
    "Lets compare the number of people in the group to the fare that they paid. \n",
    "- See if the number of people on board is related to the number of rooms they have\n",
    "- If we assume the Fare is total - then "
   ]
  },
  {
   "cell_type": "code",
   "execution_count": null,
   "metadata": {},
   "outputs": [],
   "source": []
  },
  {
   "cell_type": "code",
   "execution_count": null,
   "metadata": {},
   "outputs": [],
   "source": []
  },
  {
   "cell_type": "markdown",
   "metadata": {},
   "source": [
    "### Multivariate Analysis"
   ]
  },
  {
   "cell_type": "markdown",
   "metadata": {},
   "source": [
    "**Pivot Tables**\n",
    "\n",
    "A PivotTable is an interactive way to quickly summarize large amounts of data. You can use a PivotTable to analyze numerical data in detail, and answer unanticipated questions about your data.\n"
   ]
  },
  {
   "cell_type": "code",
   "execution_count": 180,
   "metadata": {},
   "outputs": [],
   "source": [
    "import numpy as np"
   ]
  },
  {
   "cell_type": "code",
   "execution_count": 181,
   "metadata": {},
   "outputs": [],
   "source": [
    "#checkout the data again\n",
    "\n"
   ]
  },
  {
   "cell_type": "code",
   "execution_count": 182,
   "metadata": {},
   "outputs": [],
   "source": [
    "# lets make a pivot table of both fare and index isname\n",
    "#autotmaticallly aggigrages  by mean\n",
    "\n"
   ]
  },
  {
   "cell_type": "markdown",
   "metadata": {},
   "source": [
    "**aggfunc**\n",
    "\n",
    "aggfuncfunction, list of functions, dict, default “mean”\n",
    "\n",
    "If a list of functions is passed, the resulting pivot table will have hierarchical columns whose top level are the function names (inferred from the function objects themselves). If a dict is passed, the key is column to aggregate and the value is function or list of functions. If margin=True, aggfunc will be used to calculate the partial aggregates."
   ]
  },
  {
   "cell_type": "code",
   "execution_count": 183,
   "metadata": {},
   "outputs": [],
   "source": [
    "# group them by the aggregates values of the sum of all of those values- names with the same age\n",
    "# lists with the same number\n",
    "# how many of the same one \n",
    "\n"
   ]
  },
  {
   "cell_type": "code",
   "execution_count": 184,
   "metadata": {},
   "outputs": [],
   "source": [
    "# group them by mean and median\n"
   ]
  },
  {
   "cell_type": "code",
   "execution_count": 185,
   "metadata": {},
   "outputs": [],
   "source": [
    "#add the element of age group \n",
    "\n"
   ]
  },
  {
   "cell_type": "markdown",
   "metadata": {},
   "source": [
    "**lmplot**\n",
    "\n",
    "lmplot() combines regplot() and FacetGrid.\n",
    "\n",
    "The FacetGrid class helps in visualizing the distribution of one variable as well as the relationship between multiple variables separately within subsets of your dataset using multiple panels.\n",
    "\n",
    "lmplot() is more computationally intensive and is intended as a convenient interface to fit regression models across conditional subsets of a dataset."
   ]
  },
  {
   "cell_type": "code",
   "execution_count": 186,
   "metadata": {},
   "outputs": [],
   "source": [
    "#plot fare, age, and agegroup\n"
   ]
  },
  {
   "cell_type": "markdown",
   "metadata": {},
   "source": [
    "[**heatmaps**](https://seaborn.pydata.org/generated/seaborn.heatmap.html)\n",
    "\n",
    "Plot rectangular data as a color-encoded matrix.\n",
    "\n",
    "Heatmaps (or heat maps) are visual representations of data where values are depicted by color, making it easy to visualize complex data and understand it at a glance. Heatmaps can be created by hand, though modern heatmaps are generally created using specialized heatmapping software.\n"
   ]
  },
  {
   "cell_type": "code",
   "execution_count": null,
   "metadata": {},
   "outputs": [],
   "source": []
  },
  {
   "cell_type": "code",
   "execution_count": 187,
   "metadata": {},
   "outputs": [],
   "source": [
    "#make a subset of the titanic_clean with two variables\n"
   ]
  },
  {
   "cell_type": "code",
   "execution_count": 188,
   "metadata": {},
   "outputs": [],
   "source": [
    "#make the heatmap\n"
   ]
  },
  {
   "cell_type": "code",
   "execution_count": 189,
   "metadata": {},
   "outputs": [],
   "source": [
    "#set the index\n"
   ]
  },
  {
   "cell_type": "code",
   "execution_count": 190,
   "metadata": {},
   "outputs": [],
   "source": [
    "#map it again\n"
   ]
  },
  {
   "cell_type": "code",
   "execution_count": 191,
   "metadata": {},
   "outputs": [],
   "source": [
    "# add another variable\n"
   ]
  },
  {
   "cell_type": "code",
   "execution_count": 192,
   "metadata": {},
   "outputs": [],
   "source": [
    "#clean it up a tad\n"
   ]
  },
  {
   "cell_type": "markdown",
   "metadata": {
    "id": "qkoTu49LxKhx"
   },
   "source": [
    "#### Dealing with Outliers and Missing Values\n",
    "\n",
    "##### <u>Remember:</u>\n",
    "\n",
    "**Removing Outliers-------------**\n",
    "\n",
    "The outlier affects both results and assumptions\n",
    "In some cases, removing outliers may be perceived as data manipulation or cherry-picking results to support a particular narrative.\n",
    "\n",
    "Treat outliers like children … correct them when needed but never throw them out. Environmental field data (water, air, soils, rock, biota) are usually skewed distributions, not following a normal distribution. There are physical reasons for this. Outliers are to be expected.\n",
    "\n",
    "**Managing Missing Data----------------**\n",
    "\n",
    "They reduce the sample size and statistical power. More missing data means a higher chance of bias. It also makes it harder to draw reliable conclusions.\n",
    "\n",
    "Deletion is the most frequently used method in handling missing data, and thus has become the default option for analysis in most statistical software packages. A deletion is known to produce unbiased estimates and conservative results. "
   ]
  },
  {
   "cell_type": "markdown",
   "metadata": {},
   "source": [
    "Note:\n",
    "\n",
    "*Cannot convert non-finite values (NA or inf) to integer*\n",
    "\n",
    "*Missing data Can be represented as NA , nan , 0 , . ...*"
   ]
  },
  {
   "cell_type": "code",
   "execution_count": 193,
   "metadata": {
    "colab": {
     "base_uri": "https://localhost:8080/"
    },
    "executionInfo": {
     "elapsed": 17,
     "status": "ok",
     "timestamp": 1689778619908,
     "user": {
      "displayName": "Anas X384569",
      "userId": "13931278578707862625"
     },
     "user_tz": 360
    },
    "id": "cag8doTYapUX",
    "outputId": "e15330a9-a79a-44bd-c643-1a18ba14bc35"
   },
   "outputs": [],
   "source": [
    "# Return missing values in the Age column\n"
   ]
  },
  {
   "cell_type": "code",
   "execution_count": 194,
   "metadata": {
    "colab": {
     "base_uri": "https://localhost:8080/"
    },
    "executionInfo": {
     "elapsed": 13,
     "status": "ok",
     "timestamp": 1689778619909,
     "user": {
      "displayName": "Anas X384569",
      "userId": "13931278578707862625"
     },
     "user_tz": 360
    },
    "id": "mssj5N7EasNc",
    "outputId": "3b558f3c-92b9-4ebe-8b57-b28cadb6269e"
   },
   "outputs": [],
   "source": [
    "# Get summary of missingness\n"
   ]
  },
  {
   "cell_type": "markdown",
   "metadata": {},
   "source": [
    "[**missingno**](https://github.com/ResidentMario/missingno)\n",
    "\n",
    "missingno (shorthand msno) is a glitch Pokemon. It's also the name of a Python library for the exploratory visualization of missing data.\n",
    "\n",
    "missingno provides a small toolset of flexible and easy-to-use missing data visualizations and utilities that allows you to get a quick visual summary of the completeness (or lack thereof) of your dataset."
   ]
  },
  {
   "cell_type": "code",
   "execution_count": 195,
   "metadata": {},
   "outputs": [],
   "source": [
    "#if you need it\n",
    "# pip install missingno"
   ]
  },
  {
   "cell_type": "code",
   "execution_count": 196,
   "metadata": {},
   "outputs": [
    {
     "ename": "ModuleNotFoundError",
     "evalue": "No module named 'missingno'",
     "output_type": "error",
     "traceback": [
      "\u001b[1;31m---------------------------------------------------------------------------\u001b[0m",
      "\u001b[1;31mModuleNotFoundError\u001b[0m                       Traceback (most recent call last)",
      "Cell \u001b[1;32mIn[196], line 1\u001b[0m\n\u001b[1;32m----> 1\u001b[0m \u001b[38;5;28;01mimport\u001b[39;00m \u001b[38;5;21;01mmissingno\u001b[39;00m \u001b[38;5;28;01mas\u001b[39;00m \u001b[38;5;21;01mmsno\u001b[39;00m\n",
      "\u001b[1;31mModuleNotFoundError\u001b[0m: No module named 'missingno'"
     ]
    }
   ],
   "source": [
    "import missingno as msno"
   ]
  },
  {
   "cell_type": "markdown",
   "metadata": {},
   "source": [
    "[**matplotlib**](https://matplotlib.org/stable/users/index.html)\n",
    "\n",
    "Matplotlib is a comprehensive library for creating static, animated, and interactive visualizations in Python. Matplotlib makes easy things easy and hard things possible.\n",
    "\n",
    "[**matplotlib.pyplot**](https://matplotlib.org/3.5.3/api/_as_gen/matplotlib.pyplot.html)\n",
    "\n",
    "matplotlib.pyplot is a state-based interface to matplotlib. It provides an implicit, MATLAB-like, way of plotting. It also opens figures on your screen, and acts as the figure GUI manager.\n",
    "\n",
    "pyplot is mainly intended for interactive plots and simple cases of programmatic plot generation"
   ]
  },
  {
   "cell_type": "code",
   "execution_count": null,
   "metadata": {
    "executionInfo": {
     "elapsed": 1268,
     "status": "ok",
     "timestamp": 1689778621168,
     "user": {
      "displayName": "Anas X384569",
      "userId": "13931278578707862625"
     },
     "user_tz": 360
    },
    "id": "KZFmLK5_aznw"
   },
   "outputs": [],
   "source": [
    "import matplotlib.pyplot as plt"
   ]
  },
  {
   "cell_type": "code",
   "execution_count": null,
   "metadata": {
    "colab": {
     "base_uri": "https://localhost:8080/",
     "height": 489
    },
    "executionInfo": {
     "elapsed": 801,
     "status": "ok",
     "timestamp": 1689778621966,
     "user": {
      "displayName": "Anas X384569",
      "userId": "13931278578707862625"
     },
     "user_tz": 360
    },
    "id": "aEivaJTsbB-2",
    "outputId": "1c61a508-87f5-428d-8aeb-e1d3f3d520d0"
   },
   "outputs": [],
   "source": [
    "#check out the missingno for the whole dataset\n"
   ]
  },
  {
   "cell_type": "markdown",
   "metadata": {
    "id": "e2smNlJJcXV7"
   },
   "source": [
    "#### Dropping missing data"
   ]
  },
  {
   "cell_type": "code",
   "execution_count": null,
   "metadata": {
    "colab": {
     "base_uri": "https://localhost:8080/"
    },
    "executionInfo": {
     "elapsed": 47,
     "status": "ok",
     "timestamp": 1689778621966,
     "user": {
      "displayName": "Anas X384569",
      "userId": "13931278578707862625"
     },
     "user_tz": 360
    },
    "id": "Vcilluxob-Dm",
    "outputId": "16406e48-184a-443e-924d-fc60539fc4d8"
   },
   "outputs": [],
   "source": []
  },
  {
   "cell_type": "code",
   "execution_count": null,
   "metadata": {
    "colab": {
     "base_uri": "https://localhost:8080/"
    },
    "executionInfo": {
     "elapsed": 41,
     "status": "ok",
     "timestamp": 1689778621967,
     "user": {
      "displayName": "Anas X384569",
      "userId": "13931278578707862625"
     },
     "user_tz": 360
    },
    "id": "U8IsbNDubGrB",
    "outputId": "87007161-6850-433f-e545-535615cf3366"
   },
   "outputs": [],
   "source": [
    "#drop the na from age\n"
   ]
  },
  {
   "cell_type": "code",
   "execution_count": null,
   "metadata": {
    "colab": {
     "base_uri": "https://localhost:8080/"
    },
    "executionInfo": {
     "elapsed": 35,
     "status": "ok",
     "timestamp": 1689778621967,
     "user": {
      "displayName": "Anas X384569",
      "userId": "13931278578707862625"
     },
     "user_tz": 360
    },
    "id": "veNdzho2cFbV",
    "outputId": "cb5cb2ac-f2bd-4bb1-d800-d29976974fd1"
   },
   "outputs": [],
   "source": [
    "#what percentage of the na subset\n"
   ]
  },
  {
   "cell_type": "markdown",
   "metadata": {
    "id": "XQY2VtTAcbaN"
   },
   "source": [
    "#### Replacing with statistical measures"
   ]
  },
  {
   "cell_type": "code",
   "execution_count": null,
   "metadata": {
    "colab": {
     "base_uri": "https://localhost:8080/"
    },
    "executionInfo": {
     "elapsed": 33,
     "status": "ok",
     "timestamp": 1689778621968,
     "user": {
      "displayName": "Anas X384569",
      "userId": "13931278578707862625"
     },
     "user_tz": 360
    },
    "id": "0R3fUzcHcI23",
    "outputId": "73ef5c1d-c698-4665-8438-abb6fae9e6d2"
   },
   "outputs": [],
   "source": [
    "#get the age mean\n"
   ]
  },
  {
   "cell_type": "code",
   "execution_count": null,
   "metadata": {
    "executionInfo": {
     "elapsed": 30,
     "status": "ok",
     "timestamp": 1689778621968,
     "user": {
      "displayName": "Anas X384569",
      "userId": "13931278578707862625"
     },
     "user_tz": 360
    },
    "id": "vgn_7OKacx8b"
   },
   "outputs": [],
   "source": [
    "#fill the na with the average\n"
   ]
  },
  {
   "cell_type": "code",
   "execution_count": null,
   "metadata": {
    "colab": {
     "base_uri": "https://localhost:8080/"
    },
    "executionInfo": {
     "elapsed": 30,
     "status": "ok",
     "timestamp": 1689778621969,
     "user": {
      "displayName": "Anas X384569",
      "userId": "13931278578707862625"
     },
     "user_tz": 360
    },
    "id": "LPTdtmQKdESa",
    "outputId": "e48c5cc6-d9ea-4bf0-b9b2-618ddd4966e0"
   },
   "outputs": [],
   "source": [
    "#check for missing values\n"
   ]
  },
  {
   "cell_type": "code",
   "execution_count": null,
   "metadata": {
    "colab": {
     "base_uri": "https://localhost:8080/",
     "height": 206
    },
    "executionInfo": {
     "elapsed": 26,
     "status": "ok",
     "timestamp": 1689778621969,
     "user": {
      "displayName": "Anas X384569",
      "userId": "13931278578707862625"
     },
     "user_tz": 360
    },
    "id": "EGWJJee5eXgp",
    "outputId": "78c62a53-e6ef-4e5a-ccb2-97464cbef76f"
   },
   "outputs": [],
   "source": []
  },
  {
   "cell_type": "code",
   "execution_count": null,
   "metadata": {
    "executionInfo": {
     "elapsed": 25,
     "status": "ok",
     "timestamp": 1689778621970,
     "user": {
      "displayName": "Anas X384569",
      "userId": "13931278578707862625"
     },
     "user_tz": 360
    },
    "id": "H-TtT7EOdMoH"
   },
   "outputs": [],
   "source": [
    "#Now we try to convert the age to integer\n"
   ]
  },
  {
   "cell_type": "code",
   "execution_count": null,
   "metadata": {
    "colab": {
     "base_uri": "https://localhost:8080/"
    },
    "executionInfo": {
     "elapsed": 26,
     "status": "ok",
     "timestamp": 1689778621971,
     "user": {
      "displayName": "Anas X384569",
      "userId": "13931278578707862625"
     },
     "user_tz": 360
    },
    "id": "6ekSKmnFdXV2",
    "outputId": "7660ad8d-46cb-4eee-a9a8-7e42f0a26fc3"
   },
   "outputs": [],
   "source": [
    "# look at dtypes\n"
   ]
  },
  {
   "cell_type": "code",
   "execution_count": null,
   "metadata": {
    "colab": {
     "base_uri": "https://localhost:8080/",
     "height": 448
    },
    "executionInfo": {
     "elapsed": 440,
     "status": "ok",
     "timestamp": 1689778622389,
     "user": {
      "displayName": "Anas X384569",
      "userId": "13931278578707862625"
     },
     "user_tz": 360
    },
    "id": "dku66_eEdbnM",
    "outputId": "9b5e730e-1d8f-4254-851d-c89f760be73d"
   },
   "outputs": [],
   "source": [
    "#plotting age - histogram\n"
   ]
  },
  {
   "cell_type": "markdown",
   "metadata": {},
   "source": [
    "### Timeseries Analysis\n",
    "\n",
    "Time series analysis is a specific way of analyzing a sequence of data points collected over an interval of time. In time series analysis, analysts record data points at consistent intervals over a set period of time rather than just recording the data points intermittently or randomly.\n",
    "\n",
    "Weather records, economic indicators and patient health evolution metrics—all are time series data."
   ]
  },
  {
   "cell_type": "markdown",
   "metadata": {},
   "source": [
    "this should look familiar. [wikifunctions](https://github.com/brianckeegan/wikifunctions) is a coding package from Professor Brian Keegan here at C U Boulder"
   ]
  },
  {
   "cell_type": "code",
   "execution_count": null,
   "metadata": {},
   "outputs": [],
   "source": [
    "import wikifunctions as wf"
   ]
  },
  {
   "cell_type": "markdown",
   "metadata": {},
   "source": [
    "get all of the page views of a page over time"
   ]
  },
  {
   "cell_type": "code",
   "execution_count": null,
   "metadata": {},
   "outputs": [],
   "source": []
  },
  {
   "cell_type": "code",
   "execution_count": null,
   "metadata": {},
   "outputs": [],
   "source": [
    "#plot it"
   ]
  },
  {
   "cell_type": "markdown",
   "metadata": {},
   "source": [
    "Compare two pagess"
   ]
  },
  {
   "cell_type": "code",
   "execution_count": null,
   "metadata": {},
   "outputs": [],
   "source": []
  },
  {
   "cell_type": "code",
   "execution_count": null,
   "metadata": {},
   "outputs": [],
   "source": [
    "#plot both\n"
   ]
  },
  {
   "cell_type": "markdown",
   "metadata": {},
   "source": [
    "We need to change the scale \n",
    "\n",
    "Scales are functions that map from an input domain to an output range. The values in any dataset are unlikely to correspond exactly to pixel measurements for use in your visualization. Scales provide a convenient way to map those data values to new values useful for visualization purposes.\n",
    "\n",
    "**linear scale**\n",
    "\n",
    "Linear charts become useful when you want to see the pure price changes with scaling calculations. Day traders often prefer linear charts. -- this is what you automatically look at. \n",
    "\n",
    "**log scale**\n",
    "\n",
    "A logarithmic scale, often called a log scale, shows the percentage (relative) change. If an asset rises from 50 to 60, a rise of 20%, it’s presented in the same way as a change from 10 000 to 12 000 (also a 20% rise). The distance between the lower numbers is higher than the upper numbers. Why does it change? Because the log scale shows the percentage changes (relative changes) – not absolute changes. A rise from 120 to 140 is much bigger relatively than a rise from 320 to 340, even though both rise 20 points.\n",
    "\n",
    "A logarithmic scale can easily render values from 10 to 100000 on the same chart. In contrast, if you use any other conventional chart, such as a simple line series with a linear axis, you will not notice details correlating with the smallest values, which could lead to misinterpretation of the data set.\n"
   ]
  },
  {
   "cell_type": "code",
   "execution_count": null,
   "metadata": {},
   "outputs": [],
   "source": [
    "#we're going to use more of matplotlib\n",
    "#f is for figure\n",
    "#ax is the keyword for the part of the overall figure in which a chart/plot is drawn. \n",
    "\n",
    "#get both of the plots\n",
    "\n",
    "\n",
    "#set a new scale\n",
    "\n",
    "#include a legend\n"
   ]
  },
  {
   "cell_type": "markdown",
   "metadata": {},
   "source": [
    "Get the revisions of a page"
   ]
  },
  {
   "cell_type": "code",
   "execution_count": null,
   "metadata": {},
   "outputs": [],
   "source": []
  },
  {
   "cell_type": "markdown",
   "metadata": {},
   "source": [
    "**pd.groupby**\n",
    "\n",
    "A groupby operation involves some combination of splitting the object, applying a function, and combining the results. This can be used to group large amounts of data and compute operations on these groups."
   ]
  },
  {
   "cell_type": "code",
   "execution_count": null,
   "metadata": {},
   "outputs": [],
   "source": [
    "#group the revisions by month\n",
    "\n"
   ]
  },
  {
   "cell_type": "markdown",
   "metadata": {},
   "source": [
    "### Save our Image(s)"
   ]
  },
  {
   "cell_type": "markdown",
   "metadata": {},
   "source": [
    "pandas save fig - fig.savefig()"
   ]
  },
  {
   "cell_type": "code",
   "execution_count": null,
   "metadata": {},
   "outputs": [],
   "source": [
    "#get the monthly revision data from before \n"
   ]
  },
  {
   "cell_type": "markdown",
   "metadata": {},
   "source": [
    "matplotlib save fig - plt.savefig()"
   ]
  },
  {
   "cell_type": "code",
   "execution_count": null,
   "metadata": {},
   "outputs": [],
   "source": [
    "\n",
    "\n",
    "#save the image\n"
   ]
  }
 ],
 "metadata": {
  "colab": {
   "authorship_tag": "ABX9TyNG5+sXYLa1JcRooVJ64z4m",
   "provenance": []
  },
  "kernelspec": {
   "display_name": "base",
   "language": "python",
   "name": "python3"
  },
  "language_info": {
   "codemirror_mode": {
    "name": "ipython",
    "version": 3
   },
   "file_extension": ".py",
   "mimetype": "text/x-python",
   "name": "python",
   "nbconvert_exporter": "python",
   "pygments_lexer": "ipython3",
   "version": "3.12.7"
  }
 },
 "nbformat": 4,
 "nbformat_minor": 0
}
