{
 "cells": [
  {
   "cell_type": "markdown",
   "metadata": {},
   "source": [
    "## Exercise 1 - Little but Confusing Cleaning "
   ]
  },
  {
   "cell_type": "markdown",
   "metadata": {},
   "source": [
    " Write a function to read through the Rolling Stone Top 500 album list file (one line at\n",
    " a time) and create a dictionary where the key is the primary genre and the value is the \n",
    " number of albums of that genre. For albums that have multiple primary genres, just use \n",
    " the first genre listed. Your function should take a filename as a parameter. \n",
    " When your function finishes reading the file, it should print the genre names and the \n",
    " number of albums from each genre that are in the Top 500.  Here is the expected output:\n",
    "\n",
    "\n",
    "The genres should be printed out in the order of most to \n",
    "least for number of albums. Use the function sortDictionaryByValues in the file \n",
    "sortdictionary.py to sort your dictionary. \n",
    "\n",
    "**Hint: Use the csv module.  It will make your life quite a bit easier.**\n",
    "\n",
    "to use the sortdictionary code, save the sortdictionary.py file in the same folder as \n",
    "\n",
    "import the sort dictionary module:\n",
    " \n",
    "~~~ \n",
    "import sortdictionary\n",
    "~~~\n",
    "\n",
    "this code in this file will sort your dictionary by values. the syntax for creating a sorted dictionary \n",
    "works as follows:\n",
    "\n",
    "~~~\n",
    "sortedDictionary = sortdictionary.sortDictionaryByValues(dictionaryToSort,ascending=False)\n",
    "~~~\n",
    "\n",
    "if ascending is set to False, your dictionary will be sorted with values going from greatest-to-least.  \n",
    "setting ascending=True will sort the dictionary with values going from least-to-greatest."
   ]
  },
  {
   "cell_type": "code",
   "execution_count": 43,
   "metadata": {},
   "outputs": [],
   "source": [
    "\n",
    "import csv"
   ]
  },
  {
   "cell_type": "code",
   "execution_count": 44,
   "metadata": {},
   "outputs": [],
   "source": [
    "\n",
    "def countGenres():\n",
    "    dictionaryToSort = {}\n",
    "\n",
    "    with open('RollingStoneAlbumList.csv', 'r') as file:\n",
    "        reader = csv.DictReader(file)\n",
    "\n",
    "        for row in reader:\n",
    "            genre = row.get('Genre')\n",
    "\n",
    "            if genre:\n",
    "                # Replace slashes with commas, then split\n",
    "                genre = genre.replace('/', ',')  \n",
    "                genre_parts = genre.split(',')   \n",
    "\n",
    "                main_genre = genre_parts[0].strip()  \n",
    "\n",
    "                if main_genre in dictionaryToSort:\n",
    "                    dictionaryToSort[main_genre] += 1\n",
    "                else:\n",
    "                    dictionaryToSort[main_genre] = 1\n",
    "\n",
    "    return dictionaryToSort  \n"
   ]
  },
  {
   "cell_type": "code",
   "execution_count": 45,
   "metadata": {},
   "outputs": [
    {
     "data": {
      "text/plain": [
       "{'Rock': 318,\n",
       " 'Funk': 51,\n",
       " 'Jazz': 19,\n",
       " 'Blues': 9,\n",
       " 'Pop': 2,\n",
       " 'Folk': 13,\n",
       " 'Classical': 1,\n",
       " 'Reggae': 7,\n",
       " 'Hip Hop': 34,\n",
       " 'Electronic': 45,\n",
       " 'Latin': 1}"
      ]
     },
     "execution_count": 45,
     "metadata": {},
     "output_type": "execute_result"
    }
   ],
   "source": [
    "countGenres()"
   ]
  },
  {
   "cell_type": "code",
   "execution_count": null,
   "metadata": {},
   "outputs": [],
   "source": []
  },
  {
   "cell_type": "markdown",
   "metadata": {},
   "source": [
    "# Exercise 2 - do the same thing with pandas\n",
    "\n",
    "Write a function to read through the Rolling Stone Top 500 album list using Pandas and output two columns \n",
    "where the first column is primary genre name and the second column is number of albums in that genre.  \n",
    "For albums that have multiple primary genres, just use the first genre listed. \n",
    "Your function should take the csv filename as a parameter. The data should be sorted by number of albums, \n",
    "from greatest to least.\n",
    "\n",
    "The output should have identical totals to the output in Problem 1.\n",
    "\n",
    "Hint: You'll need to solve this using the .apply method along with either a user-defined function or a lambda \n",
    "funciton.  You ARE NOT permitted to use pandas's str.split method."
   ]
  },
  {
   "cell_type": "code",
   "execution_count": null,
   "metadata": {},
   "outputs": [],
   "source": []
  },
  {
   "cell_type": "code",
   "execution_count": null,
   "metadata": {},
   "outputs": [],
   "source": []
  },
  {
   "cell_type": "code",
   "execution_count": null,
   "metadata": {},
   "outputs": [],
   "source": []
  },
  {
   "cell_type": "code",
   "execution_count": null,
   "metadata": {},
   "outputs": [],
   "source": []
  },
  {
   "cell_type": "markdown",
   "metadata": {},
   "source": [
    "# Exercise 3 - do it your self\n",
    "\n",
    "Using the Batting.cs file, determine which year had the most homeruns.  How many homeruns were there?\n",
    "\n",
    "the answer: There were 6776 homeruns in 2019\n"
   ]
  },
  {
   "cell_type": "code",
   "execution_count": 46,
   "metadata": {},
   "outputs": [
    {
     "name": "stdout",
     "output_type": "stream",
     "text": [
      "The year with the most homeruns is 2019 with 6776 homeruns.\n"
     ]
    }
   ],
   "source": [
    "import pandas as pd\n",
    "\n",
    "battingcsv = pd.read_csv('batting.csv')\n",
    "\n",
    "# Total home runs per year\n",
    "homerunsByYear = battingcsv.groupby('yearID')['HR'].sum()\n",
    "\n",
    "# Find the year with the most home runs\n",
    "mostHomeRuns = homerunsByYear.max()\n",
    "yearWithMostHR = homerunsByYear.idxmax()\n",
    "\n",
    "print(\"The year with the most homeruns is \" + str(yearWithMostHR) + \" with \" + str(mostHomeRuns) + \" homeruns.\")"
   ]
  },
  {
   "cell_type": "code",
   "execution_count": null,
   "metadata": {},
   "outputs": [],
   "source": []
  },
  {
   "cell_type": "code",
   "execution_count": null,
   "metadata": {},
   "outputs": [],
   "source": []
  },
  {
   "cell_type": "code",
   "execution_count": null,
   "metadata": {},
   "outputs": [],
   "source": []
  }
 ],
 "metadata": {
  "kernelspec": {
   "display_name": "base",
   "language": "python",
   "name": "python3"
  },
  "language_info": {
   "codemirror_mode": {
    "name": "ipython",
    "version": 3
   },
   "file_extension": ".py",
   "mimetype": "text/x-python",
   "name": "python",
   "nbconvert_exporter": "python",
   "pygments_lexer": "ipython3",
   "version": "3.12.7"
  }
 },
 "nbformat": 4,
 "nbformat_minor": 2
}
