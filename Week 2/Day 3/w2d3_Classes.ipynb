{
 "cells": [
  {
   "cell_type": "markdown",
   "metadata": {
    "id": "oFHKmUe9LkTV"
   },
   "source": [
    "# Week 2 Day 3: Classes\n",
    "\n",
    "- what is a class\n",
    "- scope\n",
    "\n"
   ]
  },
  {
   "cell_type": "markdown",
   "metadata": {},
   "source": [
    "#### Methods vs Functions"
   ]
  },
  {
   "cell_type": "code",
   "execution_count": 62,
   "metadata": {},
   "outputs": [],
   "source": [
    "# make a class with two methods in it\n",
    "class testClass():\n",
    "    \n",
    "    def method1():\n",
    "        print('This is the first method')\n",
    "        \n",
    "    def method2():\n",
    "        print('This is my second method')"
   ]
  },
  {
   "cell_type": "code",
   "execution_count": 63,
   "metadata": {},
   "outputs": [
    {
     "data": {
      "text/plain": [
       "__main__.testClass"
      ]
     },
     "execution_count": 63,
     "metadata": {},
     "output_type": "execute_result"
    }
   ],
   "source": [
    "#what is the class?\n",
    "\n",
    "testClass"
   ]
  },
  {
   "cell_type": "code",
   "execution_count": 64,
   "metadata": {},
   "outputs": [
    {
     "name": "stdout",
     "output_type": "stream",
     "text": [
      "This is the first method\n"
     ]
    }
   ],
   "source": [
    "# call the first method within \n",
    "\n",
    "testClass.method1()"
   ]
  },
  {
   "cell_type": "code",
   "execution_count": 65,
   "metadata": {},
   "outputs": [
    {
     "name": "stdout",
     "output_type": "stream",
     "text": [
      "This is my second method\n"
     ]
    }
   ],
   "source": [
    "# call the second method within \n",
    "\n",
    "testClass.method2()"
   ]
  },
  {
   "cell_type": "code",
   "execution_count": 66,
   "metadata": {},
   "outputs": [
    {
     "data": {
      "text/plain": [
       "<__main__.testClass at 0x1dbe124fdd0>"
      ]
     },
     "execution_count": 66,
     "metadata": {},
     "output_type": "execute_result"
    }
   ],
   "source": [
    "#create an instance of the class\n",
    "\n",
    "instance = testClass()\n",
    "instance"
   ]
  },
  {
   "cell_type": "code",
   "execution_count": 67,
   "metadata": {},
   "outputs": [],
   "source": [
    "#call the method within the instance\n",
    "\n",
    "#instance.method1()"
   ]
  },
  {
   "cell_type": "markdown",
   "metadata": {},
   "source": [
    "#### Class initialization __ init __ and methods"
   ]
  },
  {
   "cell_type": "code",
   "execution_count": 68,
   "metadata": {},
   "outputs": [],
   "source": [
    "# make a class with a function that intializes a name and age as arguments\n",
    "# make a method that prints out the name and age of the \n",
    "\n",
    "# make a class with a function that intializes a name and age as arguments\n",
    "# make a method that prints out the name and age of the \n",
    "\n",
    "class Student():\n",
    "    def __init__(self, name, age):\n",
    "        self.name = name \n",
    "        self.age = age\n",
    "        \n",
    "    def printStudentInfo(self):\n",
    "        print('Name:', self.name), 'Age:', str(self.age)"
   ]
  },
  {
   "cell_type": "code",
   "execution_count": 69,
   "metadata": {},
   "outputs": [],
   "source": [
    "#create an object/ class instance\n",
    "student1 = Student('Polly', 20)"
   ]
  },
  {
   "cell_type": "code",
   "execution_count": 70,
   "metadata": {},
   "outputs": [
    {
     "data": {
      "text/plain": [
       "<__main__.Student at 0x1dbe124f4d0>"
      ]
     },
     "execution_count": 70,
     "metadata": {},
     "output_type": "execute_result"
    }
   ],
   "source": [
    "# what is this object?\n",
    "student1"
   ]
  },
  {
   "cell_type": "code",
   "execution_count": 71,
   "metadata": {},
   "outputs": [
    {
     "data": {
      "text/plain": [
       "'Polly'"
      ]
     },
     "execution_count": 71,
     "metadata": {},
     "output_type": "execute_result"
    }
   ],
   "source": [
    "#get the name variable within the object\n",
    "student1.name"
   ]
  },
  {
   "cell_type": "code",
   "execution_count": 72,
   "metadata": {},
   "outputs": [
    {
     "data": {
      "text/plain": [
       "20"
      ]
     },
     "execution_count": 72,
     "metadata": {},
     "output_type": "execute_result"
    }
   ],
   "source": [
    "#get the age variable within the object\n",
    "student1.age"
   ]
  },
  {
   "cell_type": "code",
   "execution_count": 73,
   "metadata": {},
   "outputs": [
    {
     "name": "stdout",
     "output_type": "stream",
     "text": [
      "Name: Polly\n"
     ]
    }
   ],
   "source": [
    "# call the method within the class\n",
    "student1.printStudentInfo()"
   ]
  },
  {
   "cell_type": "code",
   "execution_count": 74,
   "metadata": {
    "executionInfo": {
     "elapsed": 3,
     "status": "ok",
     "timestamp": 1686854367974,
     "user": {
      "displayName": "Anas X384569",
      "userId": "13931278578707862625"
     },
     "user_tz": 300
    },
    "id": "EveapB8gvcMJ"
   },
   "outputs": [],
   "source": [
    "# make a class with name, age, and with a keyword argument of occupation with 'student \n",
    "# create a method with to print all of the argumetns\n",
    "# create a method that takes in a list of grades and prints the sum of those grades\n",
    "# create a method that prints out  the list of grades\n",
    "\n",
    "class Person():\n",
    "    def __init__(self, name, age, occupation = \"student\"):\n",
    "        self.name = name\n",
    "        self.age = age\n",
    "        self.occupation = occupation\n",
    "\n",
    "    # create a method with to print all of the arguments\n",
    "    def postInfo(self):\n",
    "        print(self.name, self.age, self.occupation)\n",
    "\n",
    "    # create a method that takes in a list of grades and prints the sum of those grades\n",
    "    def sumOfGrades(self, listOfGrades):\n",
    "        self.listOfGrades = listOfGrades\n",
    "        print(self.name, \"Total Grade is:\", sum(listOfGrades))\n",
    "\n",
    "    # create a method that prints out the list of grades\n",
    "    def getGradeList(self):\n",
    "        print(self.listOfGrades)\n",
    "\n"
   ]
  },
  {
   "cell_type": "code",
   "execution_count": 75,
   "metadata": {
    "id": "C6g_Phn-vcD-"
   },
   "outputs": [],
   "source": [
    "# create an instance\n",
    "person1 = Person('nana', 32)"
   ]
  },
  {
   "cell_type": "code",
   "execution_count": 76,
   "metadata": {
    "colab": {
     "base_uri": "https://localhost:8080/"
    },
    "executionInfo": {
     "elapsed": 25,
     "status": "ok",
     "timestamp": 1686772947824,
     "user": {
      "displayName": "Anas X384569",
      "userId": "13931278578707862625"
     },
     "user_tz": 300
    },
    "id": "l3OqBlSnwUxw",
    "outputId": "5aaa6bcb-294b-4a97-fe31-507552da4d63"
   },
   "outputs": [
    {
     "data": {
      "text/plain": [
       "__main__.Person"
      ]
     },
     "execution_count": 76,
     "metadata": {},
     "output_type": "execute_result"
    }
   ],
   "source": [
    "# what is the type of this instance?\n",
    "type(person1)"
   ]
  },
  {
   "cell_type": "code",
   "execution_count": 77,
   "metadata": {
    "id": "1jCJVHnqE7hI"
   },
   "outputs": [],
   "source": [
    "# create another instance of the Person class with other arguments\n",
    "person2 = Person('Mikey', 22)"
   ]
  },
  {
   "cell_type": "code",
   "execution_count": 78,
   "metadata": {
    "colab": {
     "base_uri": "https://localhost:8080/"
    },
    "executionInfo": {
     "elapsed": 22,
     "status": "ok",
     "timestamp": 1686772947826,
     "user": {
      "displayName": "Anas X384569",
      "userId": "13931278578707862625"
     },
     "user_tz": 300
    },
    "id": "t6_G1ZOhE7dq",
    "outputId": "86deeb06-1e31-442f-981a-9a2a07a63fba"
   },
   "outputs": [
    {
     "data": {
      "text/plain": [
       "__main__.Person"
      ]
     },
     "execution_count": 78,
     "metadata": {},
     "output_type": "execute_result"
    }
   ],
   "source": [
    "# what is the type of this instance?\n",
    "type(person2)"
   ]
  },
  {
   "cell_type": "code",
   "execution_count": 79,
   "metadata": {
    "colab": {
     "base_uri": "https://localhost:8080/",
     "height": 35
    },
    "executionInfo": {
     "elapsed": 18,
     "status": "ok",
     "timestamp": 1686772947827,
     "user": {
      "displayName": "Anas X384569",
      "userId": "13931278578707862625"
     },
     "user_tz": 300
    },
    "id": "Z0YlMsKmE7Xf",
    "outputId": "22cbcfbd-96a7-4e7f-b9b8-4f884950f8f7"
   },
   "outputs": [
    {
     "data": {
      "text/plain": [
       "'nana'"
      ]
     },
     "execution_count": 79,
     "metadata": {},
     "output_type": "execute_result"
    }
   ],
   "source": [
    "#get the name of the first person\n",
    "person1.name"
   ]
  },
  {
   "cell_type": "code",
   "execution_count": 80,
   "metadata": {
    "colab": {
     "base_uri": "https://localhost:8080/"
    },
    "executionInfo": {
     "elapsed": 16,
     "status": "ok",
     "timestamp": 1686772947828,
     "user": {
      "displayName": "Anas X384569",
      "userId": "13931278578707862625"
     },
     "user_tz": 300
    },
    "id": "DfjBlZrNE6-q",
    "outputId": "19864f49-6fe9-4a6a-a106-0c906ac3d0c5"
   },
   "outputs": [
    {
     "data": {
      "text/plain": [
       "'Mikey'"
      ]
     },
     "execution_count": 80,
     "metadata": {},
     "output_type": "execute_result"
    }
   ],
   "source": [
    "#get the age of the second person\n",
    "person2.name"
   ]
  },
  {
   "cell_type": "code",
   "execution_count": 81,
   "metadata": {
    "colab": {
     "base_uri": "https://localhost:8080/",
     "height": 35
    },
    "executionInfo": {
     "elapsed": 181,
     "status": "ok",
     "timestamp": 1686772949505,
     "user": {
      "displayName": "Anas X384569",
      "userId": "13931278578707862625"
     },
     "user_tz": 300
    },
    "id": "E77oJCC8fsBB",
    "outputId": "2b54ddbf-7e5b-4196-f114-95a2776c32ab"
   },
   "outputs": [
    {
     "data": {
      "text/plain": [
       "'student'"
      ]
     },
     "execution_count": 81,
     "metadata": {},
     "output_type": "execute_result"
    }
   ],
   "source": [
    "#get the occupation of the second person\n",
    "person2.occupation"
   ]
  },
  {
   "cell_type": "code",
   "execution_count": 82,
   "metadata": {
    "colab": {
     "base_uri": "https://localhost:8080/"
    },
    "executionInfo": {
     "elapsed": 175,
     "status": "ok",
     "timestamp": 1686772952398,
     "user": {
      "displayName": "Anas X384569",
      "userId": "13931278578707862625"
     },
     "user_tz": 300
    },
    "id": "9zs5trV3fr93",
    "outputId": "9378d886-5c2e-4056-a862-a4bcd570df64"
   },
   "outputs": [
    {
     "name": "stdout",
     "output_type": "stream",
     "text": [
      "nana 32 student\n"
     ]
    }
   ],
   "source": [
    "# call the method that prints out the information for person 1\n",
    "person1.postInfo()"
   ]
  },
  {
   "cell_type": "markdown",
   "metadata": {
    "id": "_k2pJ-qOvlJV"
   },
   "source": [
    "#### Passing Arguments"
   ]
  },
  {
   "cell_type": "code",
   "execution_count": 83,
   "metadata": {
    "id": "AZzvzeOWvnAh"
   },
   "outputs": [],
   "source": [
    "#make a third instance \n",
    "person3 = Person('Tally', 34, 'Mechanic')"
   ]
  },
  {
   "cell_type": "code",
   "execution_count": 84,
   "metadata": {
    "colab": {
     "base_uri": "https://localhost:8080/"
    },
    "executionInfo": {
     "elapsed": 5,
     "status": "ok",
     "timestamp": 1686773269170,
     "user": {
      "displayName": "Anas X384569",
      "userId": "13931278578707862625"
     },
     "user_tz": 300
    },
    "id": "dZLa0JZhvoHA",
    "outputId": "fd39b3c2-5552-49d1-a23f-30ff5bb47fad"
   },
   "outputs": [
    {
     "name": "stdout",
     "output_type": "stream",
     "text": [
      "Tally 34 Mechanic\n"
     ]
    }
   ],
   "source": [
    "# call the method to print information\n",
    "person3.postInfo()"
   ]
  },
  {
   "cell_type": "code",
   "execution_count": 85,
   "metadata": {},
   "outputs": [
    {
     "name": "stdout",
     "output_type": "stream",
     "text": [
      "Tally Total Grade is: 290\n"
     ]
    }
   ],
   "source": [
    "# call the method to get the grades list\n",
    "person3.sumOfGrades([90,56,87,57])"
   ]
  },
  {
   "cell_type": "code",
   "execution_count": 86,
   "metadata": {
    "colab": {
     "base_uri": "https://localhost:8080/"
    },
    "executionInfo": {
     "elapsed": 178,
     "status": "ok",
     "timestamp": 1686773308041,
     "user": {
      "displayName": "Anas X384569",
      "userId": "13931278578707862625"
     },
     "user_tz": 300
    },
    "id": "UrqLALkqvn7f",
    "outputId": "a014c78a-1e58-44ed-b781-53913a0fa010"
   },
   "outputs": [
    {
     "name": "stdout",
     "output_type": "stream",
     "text": [
      "[90, 56, 87, 57]\n"
     ]
    }
   ],
   "source": [
    "# call the method that sums the grades list\n",
    "person3.getGradeList()"
   ]
  },
  {
   "cell_type": "code",
   "execution_count": 87,
   "metadata": {},
   "outputs": [
    {
     "name": "stdout",
     "output_type": "stream",
     "text": [
      "[90, 56, 87, 57]\n"
     ]
    }
   ],
   "source": [
    "# call the method taht gets the grades list again\n",
    "person3.getGradeList()"
   ]
  },
  {
   "cell_type": "code",
   "execution_count": 88,
   "metadata": {
    "id": "lPZ92Pipvnc0"
   },
   "outputs": [],
   "source": [
    "# create a class that assigns two arguments and \n",
    "# has a method that prints the arguments\n",
    "# has a method that has a list of tasks\n",
    "\n",
    "class DogWash():\n",
    "    def __init__(self, dog, breed):\n",
    "        self.dog = dog\n",
    "        self.breed = breed\n",
    "        \n",
    "    def printDogInfo(self):\n",
    "        print('Dog Name:', self.dog)\n",
    "        print('Dog Breed:', self.breed)\n",
    "        \n",
    "    def getTasks(self, tasksLyst):\n",
    "        return(tasksLyst)"
   ]
  },
  {
   "cell_type": "code",
   "execution_count": 89,
   "metadata": {},
   "outputs": [],
   "source": [
    "# assign an instance with a name and an age\n",
    "dog1 = DogWash('Jasper', 'Mutt')"
   ]
  },
  {
   "cell_type": "code",
   "execution_count": 90,
   "metadata": {},
   "outputs": [
    {
     "name": "stdout",
     "output_type": "stream",
     "text": [
      "Dog Name: Jasper\n",
      "Dog Breed: Mutt\n"
     ]
    }
   ],
   "source": [
    "# define the list \n",
    "dog1.printDogInfo()"
   ]
  },
  {
   "cell_type": "code",
   "execution_count": 91,
   "metadata": {},
   "outputs": [
    {
     "data": {
      "text/plain": [
       "['cut', 'clip', 'wash', 'dry']"
      ]
     },
     "execution_count": 91,
     "metadata": {},
     "output_type": "execute_result"
    }
   ],
   "source": [
    "# define the list \n",
    "dog1.getTasks(['cut', 'clip', 'wash', 'dry'])"
   ]
  },
  {
   "cell_type": "code",
   "execution_count": 92,
   "metadata": {},
   "outputs": [
    {
     "data": {
      "text/plain": [
       "['cut', 'clip', 'wash', 'dry']"
      ]
     },
     "execution_count": 92,
     "metadata": {},
     "output_type": "execute_result"
    }
   ],
   "source": [
    "jasperTasks = dog1.getTasks(['cut', 'clip', 'wash', 'dry'])\n",
    "jasperTasks"
   ]
  },
  {
   "cell_type": "markdown",
   "metadata": {},
   "source": [
    "#### Updating Variables"
   ]
  },
  {
   "cell_type": "code",
   "execution_count": 93,
   "metadata": {},
   "outputs": [
    {
     "name": "stdout",
     "output_type": "stream",
     "text": [
      "Charlie\n"
     ]
    }
   ],
   "source": [
    "# updating the name  \n",
    "dog1.name = 'Charlie'\n",
    "print(dog1.name)"
   ]
  },
  {
   "cell_type": "code",
   "execution_count": 94,
   "metadata": {},
   "outputs": [
    {
     "data": {
      "text/plain": [
       "['Wash', 'Dry']"
      ]
     },
     "execution_count": 94,
     "metadata": {},
     "output_type": "execute_result"
    }
   ],
   "source": [
    "# update the lyst\n",
    "dog1.getTasks(['Wash', 'Dry'])"
   ]
  }
 ],
 "metadata": {
  "colab": {
   "authorship_tag": "ABX9TyOjsUZ4ZU6OafWAp9FjZ2J4",
   "provenance": []
  },
  "kernelspec": {
   "display_name": "base",
   "language": "python",
   "name": "python3"
  },
  "language_info": {
   "codemirror_mode": {
    "name": "ipython",
    "version": 3
   },
   "file_extension": ".py",
   "mimetype": "text/x-python",
   "name": "python",
   "nbconvert_exporter": "python",
   "pygments_lexer": "ipython3",
   "version": "3.12.7"
  }
 },
 "nbformat": 4,
 "nbformat_minor": 0
}
