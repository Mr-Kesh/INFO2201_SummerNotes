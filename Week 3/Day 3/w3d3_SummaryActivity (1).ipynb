{
 "cells": [
  {
   "cell_type": "markdown",
   "metadata": {},
   "source": [
    "# File Review\n",
    "\n",
    "**Make sure you download**\n",
    "- **prideprejudice.txt**\n",
    "- **tv_shows.csv**\n",
    "- **nationalParks.json**"
   ]
  },
  {
   "cell_type": "markdown",
   "metadata": {},
   "source": [
    "## Text files and regular expressions"
   ]
  },
  {
   "cell_type": "markdown",
   "metadata": {},
   "source": [
    "### Exercise 1 \n",
    "\n",
    "import prideprejudice.txt and find if 'Chapter 2' is included in the text"
   ]
  },
  {
   "cell_type": "code",
   "execution_count": 26,
   "metadata": {},
   "outputs": [
    {
     "name": "stdout",
     "output_type": "stream",
     "text": [
      "Found 'Chapter 2' in the text.\n"
     ]
    }
   ],
   "source": [
    "\n",
    "with open(\"prideprejudice.txt\", 'r') as f:\n",
    "    text = f.read()\n",
    "\n",
    "# Check if 'Chapter 2' is in the text\n",
    "if 'Chapter 2' in text:\n",
    "    print(\"Found 'Chapter 2' in the text.\")\n",
    "else:\n",
    "    print(\"'Chapter 2' not found.\")\n",
    "\n",
    "f.close()"
   ]
  },
  {
   "cell_type": "markdown",
   "metadata": {},
   "source": [
    "### Exercise 2\n",
    "\n",
    "with prideprejudice.txt and find all examples of conversation. (the words between two quotation marks)\n",
    "\n",
    "*note - we havent' done this in class this is an opportunity to try out your googling skills*"
   ]
  },
  {
   "cell_type": "code",
   "execution_count": 27,
   "metadata": {},
   "outputs": [
    {
     "data": {
      "text/plain": [
       "['My dear Mr. Bennet,',\n",
       " 'have you heard that Netherfield Park is let at last?',\n",
       " 'But it is,',\n",
       " 'for Mrs. Long has just been here, and she told me all about it.',\n",
       " 'Do you not want to know who has taken it?',\n",
       " '_You_ want to tell me, and I have no objection to hearing it.',\n",
       " 'Why, my dear, you must know, Mrs. Long says that Netherfield is taken by a young man of large fortune from the north of England; that he came down on Monday in a chaise and four to see the place, and was so much delighted with it, that he agreed with Mr. Morris immediately; that he is to take possession before Michaelmas, and some of his servants are to be in the house by the end of next week.',\n",
       " 'What is his name?',\n",
       " 'Bingley.',\n",
       " 'Is he married or single?',\n",
       " 'Oh! Single, my dear, to be sure! A single man of large fortune; four or five thousand a year. What a fine thing for our girls!',\n",
       " 'How so? How can it affect them?',\n",
       " 'My dear Mr. Bennet,',\n",
       " 'how can you be so tiresome! You must know that I am thinking of his marrying one of them.',\n",
       " 'Is that his design in settling here?',\n",
       " 'Design! Nonsense, how can you talk so! But it is very likely that he _may_ fall in love with one of them, and therefore you must visit him as soon as he comes.',\n",
       " 'I see no occasion for that. You and the girls may go, or you may send them by themselves, which perhaps will be still better, for as you are as handsome as any of them, Mr. Bingley may like you the best of the party.',\n",
       " 'My dear, you flatter me. I certainly _have_ had my share of beauty, but I do not pretend to be anything extraordinary now. When a woman has five grown-up daughters, she ought to give over thinking of her own beauty.',\n",
       " 'In such cases, a woman has not often much beauty to think of.',\n",
       " 'But, my dear, you must indeed go and see Mr. Bingley when he comes into the neighbourhood.',\n",
       " 'It is more than I engage for, I assure you.',\n",
       " 'But consider your daughters. Only think what an establishment it would be for one of them. Sir William and Lady Lucas are determined to go, merely on that account, for in general, you know, they visit no newcomers. Indeed you must go, for it will be impossible for _us_ to visit him if you do not.',\n",
       " 'You are over-scrupulous, surely. I dare say Mr. Bingley will be very glad to see you; and I will send a few lines by you to assure him of my hearty consent to his marrying whichever he chooses of the girls; though I must throw in a good word for my little Lizzy.',\n",
       " 'I desire you will do no such thing. Lizzy is not a bit better than the others; and I am sure she is not half so handsome as Jane, nor half so good-humoured as Lydia. But you are always giving _her_ the preference.',\n",
       " 'They have none of them much to recommend them,',\n",
       " 'they are all silly and ignorant like other girls; but Lizzy has something more of quickness than her sisters.',\n",
       " 'Mr. Bennet, how _can_ you abuse your own children in such a way? You take delight in vexing me. You have no compassion for my poor nerves.',\n",
       " 'You mistake me, my dear. I have a high respect for your nerves. They are my old friends. I have heard you mention them with consideration these last twenty years at least.',\n",
       " 'Ah, you do not know what I suffer.',\n",
       " 'But I hope you will get over it, and live to see many young men of four thousand a year come into the neighbourhood.',\n",
       " 'It will be no use to us, if twenty such should come, since you will not visit them.',\n",
       " 'Depend upon it, my dear, that when there are twenty, I will visit them all.',\n",
       " 'I hope Mr. Bingley will like it, Lizzy.',\n",
       " 'We are not in a way to know _what_ Mr. Bingley likes,',\n",
       " 'since we are not to visit.',\n",
       " 'But you forget, mamma,',\n",
       " 'that we shall meet him at the assemblies, and that Mrs. Long promised to introduce him.',\n",
       " 'I do not believe Mrs. Long will do any such thing. She has two nieces of her own. She is a selfish, hypocritical woman, and I have no opinion of her.',\n",
       " 'No more have I,',\n",
       " 'and I am glad to find that you do not depend on her serving you.']"
      ]
     },
     "execution_count": 27,
     "metadata": {},
     "output_type": "execute_result"
    }
   ],
   "source": [
    "import re \n",
    "\n",
    "re.findall(r'\"(.*?)\"', text)"
   ]
  },
  {
   "cell_type": "markdown",
   "metadata": {},
   "source": [
    "## CSV Files"
   ]
  },
  {
   "cell_type": "markdown",
   "metadata": {},
   "source": [
    "### Exercise 3: \n",
    "\n",
    "import tv_shows.csv and find the 5 most recently made tv shows"
   ]
  },
  {
   "cell_type": "code",
   "execution_count": 28,
   "metadata": {},
   "outputs": [
    {
     "name": "stdout",
     "output_type": "stream",
     "text": [
      "Game of Thrones\n",
      "Breaking Bad\n",
      "The Walking Dead\n",
      "The Big Bang Theory\n",
      "Dexter\n"
     ]
    }
   ],
   "source": [
    "import csv\n",
    "\n",
    "with open('tv_shows.csv', 'r', encoding='utf-8') as f:\n",
    "    reader = csv.reader(f)\n",
    "    next(reader)  \n",
    "    for i, row in enumerate(reader):\n",
    "        if i == 5:\n",
    "            break\n",
    "        print(row[1]) "
   ]
  },
  {
   "cell_type": "markdown",
   "metadata": {},
   "source": []
  },
  {
   "cell_type": "code",
   "execution_count": null,
   "metadata": {},
   "outputs": [],
   "source": []
  },
  {
   "cell_type": "markdown",
   "metadata": {},
   "source": [
    "# JSON Files"
   ]
  },
  {
   "cell_type": "markdown",
   "metadata": {},
   "source": []
  },
  {
   "cell_type": "markdown",
   "metadata": {},
   "source": [
    "## Exercise 4 \n",
    "import nationalParks.json \n",
    "\n",
    "and make a dictionary that has the index in the json file an the name of the national park"
   ]
  },
  {
   "cell_type": "code",
   "execution_count": 29,
   "metadata": {},
   "outputs": [],
   "source": [
    "import json"
   ]
  },
  {
   "cell_type": "code",
   "execution_count": 30,
   "metadata": {},
   "outputs": [],
   "source": [
    "f = open(\"nationalParks.json\", 'r')\n",
    "data = json.loads(f.read())"
   ]
  },
  {
   "cell_type": "code",
   "execution_count": 31,
   "metadata": {},
   "outputs": [
    {
     "data": {
      "text/plain": [
       "{0: 'Acadia',\n",
       " 1: 'American Samoa',\n",
       " 2: 'Arches',\n",
       " 3: 'Badlands',\n",
       " 4: 'Big Bend',\n",
       " 5: 'Biscayne',\n",
       " 6: 'Black Canyon of the Gunnison',\n",
       " 7: 'Bryce Canyon',\n",
       " 8: 'Canyonlands',\n",
       " 9: 'Capitol Reef',\n",
       " 10: 'Carlsbad Caverns',\n",
       " 11: 'Channel Islands',\n",
       " 12: 'Congaree',\n",
       " 13: 'Crater Lake',\n",
       " 14: 'Cuyahoga Valley',\n",
       " 15: 'Death Valley',\n",
       " 16: 'Denali',\n",
       " 17: 'Dry Tortugas',\n",
       " 18: 'Everglades',\n",
       " 19: 'Gates of the Arctic',\n",
       " 20: 'Glacier',\n",
       " 21: 'Glacier Bay',\n",
       " 22: 'Grand Canyon',\n",
       " 23: 'Grand Teton',\n",
       " 24: 'Great Basin',\n",
       " 25: 'Great Sand Dunes',\n",
       " 26: 'Great Smoky Mountains',\n",
       " 27: 'Guadalupe Mountains',\n",
       " 28: 'Haleakala',\n",
       " 29: 'Hawaii Volcanoes',\n",
       " 30: 'Hot Springs',\n",
       " 31: 'Isle Royale',\n",
       " 32: 'Joshua Tree',\n",
       " 33: 'Katmai',\n",
       " 34: 'Kenai Fjords',\n",
       " 35: 'Kings Canyon',\n",
       " 36: 'Kobuk Valley',\n",
       " 37: 'Lake Clark',\n",
       " 38: 'Lassen Volcanic',\n",
       " 39: 'Mammoth Cave',\n",
       " 40: 'Mesa Verde',\n",
       " 41: 'Mount Rainier',\n",
       " 42: 'North Cascades',\n",
       " 43: 'Olympic',\n",
       " 44: 'Petrified Forest',\n",
       " 45: 'Pinnacles',\n",
       " 46: 'Redwood',\n",
       " 47: 'Rocky Mountain',\n",
       " 48: 'Saguaro',\n",
       " 49: 'Sequoia',\n",
       " 50: 'Shenandoah',\n",
       " 51: 'Theodore Roosevelt',\n",
       " 52: 'Virgin Islands',\n",
       " 53: 'Voyageurs',\n",
       " 54: 'Wind Cave',\n",
       " 55: 'Wrangell–St. Elias',\n",
       " 56: 'Yellowstone',\n",
       " 57: 'Yosemite',\n",
       " 58: 'Zion'}"
      ]
     },
     "execution_count": 31,
     "metadata": {},
     "output_type": "execute_result"
    }
   ],
   "source": [
    "npIndexDict = {}\n",
    "\n",
    "for index, info in enumerate(data):\n",
    "    npIndexDict[index] = info['title']\n",
    "    \n",
    "npIndexDict"
   ]
  },
  {
   "cell_type": "markdown",
   "metadata": {},
   "source": [
    "## Exercise 5\n",
    "\n",
    "get the name (title) of the park with the most visitors\n",
    "\n",
    "Hint: You will need to convert the numbers to int and use **replace** to deal with commas"
   ]
  },
  {
   "cell_type": "code",
   "execution_count": null,
   "metadata": {},
   "outputs": [],
   "source": []
  },
  {
   "cell_type": "code",
   "execution_count": null,
   "metadata": {},
   "outputs": [],
   "source": []
  },
  {
   "cell_type": "markdown",
   "metadata": {},
   "source": [
    "## Exercise 6\n",
    "Write a function that recieves the name of the park and prints out it's state, establishment date, and description"
   ]
  },
  {
   "cell_type": "code",
   "execution_count": null,
   "metadata": {},
   "outputs": [],
   "source": []
  },
  {
   "cell_type": "code",
   "execution_count": null,
   "metadata": {},
   "outputs": [],
   "source": []
  }
 ],
 "metadata": {
  "kernelspec": {
   "display_name": "base",
   "language": "python",
   "name": "python3"
  },
  "language_info": {
   "codemirror_mode": {
    "name": "ipython",
    "version": 3
   },
   "file_extension": ".py",
   "mimetype": "text/x-python",
   "name": "python",
   "nbconvert_exporter": "python",
   "pygments_lexer": "ipython3",
   "version": "3.12.7"
  }
 },
 "nbformat": 4,
 "nbformat_minor": 2
}
